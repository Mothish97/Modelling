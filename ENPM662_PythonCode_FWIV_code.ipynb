{
  "nbformat": 4,
  "nbformat_minor": 0,
  "metadata": {
    "colab": {
      "name": "DH to Matrix.ipynb",
      "provenance": [],
      "collapsed_sections": []
    },
    "kernelspec": {
      "name": "python3",
      "display_name": "Python 3"
    },
    "language_info": {
      "name": "python"
    }
  },
  "cells": [
    {
      "cell_type": "code",
      "execution_count": 256,
      "metadata": {
        "id": "qr0unb9twpSK"
      },
      "outputs": [],
      "source": [
        "from math import sin, cos, pi\n",
        "import matplotlib.pyplot as plt\n",
        "import numpy as np\n",
        "import sympy as sym\n",
        "from IPython.display import display, Latex"
      ]
    },
    {
      "cell_type": "code",
      "source": [
        "# ---------------------------------------------------------------------------\n",
        "#                         Initializing DH Parameters (at rest position)\n",
        "# ---------------------------------------------------------------------------\n",
        "\n",
        "# Initializing/Declaring Parameter - a (mm)\n",
        "a1 = 260; a2 = 680; a3 = -35\n",
        "\n",
        "# Initializing/Declaring Parameter - alpha (rad)\n",
        "alp1 = -pi/2\n",
        "alp2 = 0\n",
        "alp3 = -pi/2\n",
        "alp4 = pi/2\n",
        "alp5 = -pi/2\n",
        "alp6 = 0\n",
        "\n",
        "# Initializing/Declaring Parameter - d (mm)\n",
        "d1 = 675; d4 = 670; d6 = 115\n",
        "p  = 250       # length of paint nozzle end-effector\n",
        "\n",
        "# Initializing/Declaring Parameter - theta (rad)\n",
        "q1 = 0\n",
        "q2 = 0\n",
        "q3 = 0 - pi/2\n",
        "q4 = 0\n",
        "q5 = 0\n",
        "q6 = 0\n"
      ],
      "metadata": {
        "id": "A-4fEoMmBrpC"
      },
      "execution_count": 257,
      "outputs": []
    },
    {
      "cell_type": "code",
      "source": [
        "# ---------------------------------------------------------------------------\n",
        "#                           Defining Functions\n",
        "# ---------------------------------------------------------------------------\n",
        "\n",
        "# Function to compute homogeneous transformation matrix using DH parameters\n",
        "def T_i_matrix(a, alp, d, theta):\n",
        "    T = np.array([[cos(theta), -sin(theta)*cos(alp), sin(theta)*sin(alp), a*cos(theta)],\n",
        "                [sin(theta), cos(theta)*cos(alp), -cos(theta)*sin(alp), a*sin(theta)],\n",
        "                [0, sin(alp), cos(alp), d],\n",
        "                [0, 0, 0, 1]])\n",
        "    return T\n",
        "\n",
        "# Function to retrieve Z vectors from homogeneous transformation matrices\n",
        "def Z_i_column(T):\n",
        "    return np.array(T[0:3, 2])\n",
        "\n",
        "# Function to retrieve O vectors from homogeneous transformation matrices\n",
        "def O_i_column(T):\n",
        "    return np.array(T[0:3, 3])\n",
        "\n",
        "# Function to generate Jacobian matrix columns \n",
        "def J_i_matrix(Z, O, On):\n",
        "  return np.concatenate([np.cross(Z, (On - O)), Z])\n"
      ],
      "metadata": {
        "id": "shDhZ5H0HjUk"
      },
      "execution_count": 258,
      "outputs": []
    },
    {
      "cell_type": "code",
      "source": [
        "# ---------------------------------------------------------------------------\n",
        "#               end effector velocities for each iteration (makes line)\n",
        "# ---------------------------------------------------------------------------\n",
        "\n",
        "# Defining charateristics for line tracking\n",
        "n = 50                       # Number of iterations\n",
        "time = 5                    # [seconds], time to make a line\n",
        "l = 100                     # length of line (mm)\n",
        "del_t = time/n              # time step\n",
        "del_dist = l/n              # distance step\n",
        "\n",
        "q_prev = np.array([[q1, q2, q3, q4, q5, q6]]).transpose() # Initializing q_prev\n",
        "\n",
        "y_dot_ = list()    #  list for y_dot values\n",
        "z_dot_ = list()    #  list for z_dot values\n",
        "\n",
        "line_y = [0]       # line y coordinates\n",
        "line_z = [1320]     # line z coordinates\n",
        "\n",
        "end_y = [0]        # End-Effector y coordinates\n",
        "end_z = [1320]      # End-Effector z coordinates"
      ],
      "metadata": {
        "id": "f6N1yTXaOsYP"
      },
      "execution_count": 259,
      "outputs": []
    },
    {
      "cell_type": "code",
      "source": [
        "for i in range(n):\n",
        "\n",
        "    # Computing Homogeneous Transformation Matrices\n",
        "    T1 = T_i_matrix(a1, alp1, d1, q_prev[0])\n",
        "    T2 = T_i_matrix(a2, alp2, 0, q_prev[1])\n",
        "    T3 = T_i_matrix(a3, alp3, 0, q_prev[2])\n",
        "    T4 = T_i_matrix(0, alp4, d4, q_prev[3])\n",
        "    T5 = T_i_matrix(0, alp5, 0, q_prev[4])\n",
        "    T6 = T_i_matrix(0, alp6, d6+p, q_prev[5])\n",
        "\n",
        "    T_01 = T1\n",
        "    T_12 = np.matmul(T_01, T2)\n",
        "    T_23 = np.matmul(T_12, T3)\n",
        "    T_34 = np.matmul(T_23, T4)\n",
        "    T_45 = np.matmul(T_34, T5)\n",
        "    T_56 = np.matmul(T_45, T6)\n",
        "\n",
        "    # Computing Z vectors from Transformation Matrices\n",
        "    Z0 = np.array([0, 0, 1])\n",
        "    Z1 = Z_i_column(T_01)\n",
        "    Z2 = Z_i_column(T_12)\n",
        "    Z3 = Z_i_column(T_23)\n",
        "    Z4 = Z_i_column(T_34)\n",
        "    Z5 = Z_i_column(T_45)\n",
        "    Z6 = Z_i_column(T_56)\n",
        "\n",
        "    # Computing O vectors from Transformation Matrices\n",
        "    O0 = np.array([0, 0, 0])\n",
        "    O1 = O_i_column(T_01)\n",
        "    O2 = O_i_column(T_12)\n",
        "    O3 = O_i_column(T_23)\n",
        "    O4 = O_i_column(T_34)\n",
        "    O5 = O_i_column(T_45)\n",
        "    O6 = O_i_column(T_56)\n",
        "    \n",
        "    # Computing Ji\n",
        "    J1 = J_i_matrix(Z0, O0, O6)\n",
        "    J2 = J_i_matrix(Z1, O1, O6)\n",
        "    J3 = J_i_matrix(Z2, O2, O6)\n",
        "    J4 = J_i_matrix(Z3, O3, O6)\n",
        "    J5 = J_i_matrix(Z4, O4, O6)\n",
        "    J6 = J_i_matrix(Z5, O5, O6)\n",
        "\n",
        "    J = np.array([J1, J2, J3, J4, J5, J6]).transpose()\n",
        "    J_ = np.linalg.pinv(J) # Taking the pseudo-inverse of the Jacobian Matrix\n",
        "                  \n",
        "    J1 = sym.Matrix(J1)\n",
        "    J2 = sym.Matrix(J2)\n",
        "    J3 = sym.Matrix(J3)\n",
        "    J4 = sym.Matrix(J4)\n",
        "    J5 = sym.Matrix(J5)\n",
        "    J6 = sym.Matrix(J6)\n",
        "    \n",
        "    # J_mat = sym.Matrix.hstack(J1, J2, J3, J4, J5, J6)\n",
        "    # display(J_mat)\n",
        "   \n",
        "    # ---------------------------------------------------------------------------\n",
        "    #                      computing points on the LINE \n",
        "    # ---------------------------------------------------------------------------\n",
        "\n",
        "    line_y.append(0)\n",
        "    y_dot = 0\n",
        "    y_dot_.append(y_dot)\n",
        "    \n",
        "    line_z.append(1320 - n*del_dist)\n",
        "    z_dot = del_dist/del_t\n",
        "    z_dot_.append(z_dot)\n",
        "    \n",
        "    # ---------------------------------------------------------------------------\n",
        "    #                        Inverse Kinematics\n",
        "    # ---------------------------------------------------------------------------\n",
        "    \n",
        "    eta = np.array([[y_dot, 0, z_dot, 0, 0, 0]]).transpose()\n",
        "    q_curr_dot = np.matmul(J_, eta)\n",
        "    q_curr = q_prev + q_curr_dot * del_t\n",
        "    q_prev = q_curr\n",
        "\n",
        "    # ---------------------------------------------------------------------------\n",
        "    #                        Forward Kinematics\n",
        "    # ---------------------------------------------------------------------------\n",
        "    \n",
        "    y = end_y[i] - y_dot_[i] * del_t\n",
        "    end_y.append(y)\n",
        "    z = end_z[i] - z_dot_[i] * del_t\n",
        "    end_z.append(z)    \n"
      ],
      "metadata": {
        "id": "gsC8z01YB3ux"
      },
      "execution_count": 260,
      "outputs": []
    },
    {
      "cell_type": "code",
      "source": [
        "# ---------------------------------------------------------------------------\n",
        "#                          Building Plots for Validation\n",
        "# ---------------------------------------------------------------------------\n",
        "\n",
        "fig, axs = plt.subplots(1, 3)\n",
        "axs[0].plot(line_y, line_z, 'b-')\n",
        "axs[0].axis([-10,10,1210,1330])\n",
        "axs[0].set_title(\"Line to be drawn\")\n",
        "axs[0].set_xlabel(\"y-axis (mm)\")\n",
        "axs[0].set_ylabel(\"z-axis (mm)\")\n",
        "\n",
        "axs[1].plot(end_y, end_z, 'gx')\n",
        "axs[1].axis([-10,10,1210,1330])\n",
        "axs[1].set_title(\"End-effector trajectory\")\n",
        "axs[1].set_xlabel(\"y-axis (mm)\")\n",
        "axs[1].set_ylabel(\"z-axis (mm)\")\n",
        "\n",
        "axs[2].plot(end_y, end_z, 'gx')\n",
        "axs[2].plot(line_y, line_z, 'b-')\n",
        "axs[2].axis([-10,10,1210,1330])\n",
        "axs[2].set_title(\"Overlap\")\n",
        "axs[2].set_xlabel(\"y-axis (mm)\")\n",
        "axs[2].set_ylabel(\"z-axis (mm)\")\n",
        "\n",
        "fig.tight_layout()\n"
      ],
      "metadata": {
        "colab": {
          "base_uri": "https://localhost:8080/",
          "height": 296
        },
        "id": "YZp9hCx5TcBW",
        "outputId": "b6c17ea2-bcba-4ae5-b7d9-60f19fa88ee3"
      },
      "execution_count": 261,
      "outputs": [
        {
          "output_type": "display_data",
          "data": {
            "image/png": "[encoded data removed]",
            "text/plain": [
              "<Figure size 432x288 with 3 Axes>"
            ]
          },
          "metadata": {
            "needs_background": "light"
          }
        }
      ]
    }
  ]
}